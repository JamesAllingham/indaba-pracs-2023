{
  "nbformat": 4,
  "nbformat_minor": 0,
  "metadata": {
    "colab": {
      "provenance": [],
      "collapsed_sections": [
        "nycDZL1DEHST",
        "_fsdlUFKGvfe"
      ],
      "include_colab_link": true
    },
    "kernelspec": {
      "name": "python3",
      "display_name": "Python 3"
    },
    "language_info": {
      "name": "python"
    }
  },
  "cells": [
    {
      "cell_type": "markdown",
      "metadata": {
        "id": "view-in-github",
        "colab_type": "text"
      },
      "source": [
        "<a href=\"https://colab.research.google.com/github/elizavetasemenova/indaba-pracs-2023/blob/intro-to-probability/Copy_of_Copy_of_Introduction_to_Probabilistic_Programming.ipynb\" target=\"_parent\"><img src=\"https://colab.research.google.com/assets/colab-badge.svg\" alt=\"Open In Colab\"/></a>"
      ]
    },
    {
      "cell_type": "code",
      "source": [
        "!pip install numpyro"
      ],
      "metadata": {
        "colab": {
          "base_uri": "https://localhost:8080/"
        },
        "id": "XD0AQr7aWB2w",
        "outputId": "6a966d21-9415-4ca5-bfbf-c0b57f11502a"
      },
      "execution_count": null,
      "outputs": [
        {
          "output_type": "stream",
          "name": "stdout",
          "text": [
            "Collecting numpyro\n",
            "  Downloading numpyro-0.12.1-py3-none-any.whl (304 kB)\n",
            "\u001b[2K     \u001b[90m━━━━━━━━━━━━━━━━━━━━━━━━━━━━━━━━━━━━━━━\u001b[0m \u001b[32m304.6/304.6 kB\u001b[0m \u001b[31m3.2 MB/s\u001b[0m eta \u001b[36m0:00:00\u001b[0m\n",
            "\u001b[?25hRequirement already satisfied: jax>=0.4.7 in /usr/local/lib/python3.10/dist-packages (from numpyro) (0.4.13)\n",
            "Requirement already satisfied: jaxlib>=0.4.7 in /usr/local/lib/python3.10/dist-packages (from numpyro) (0.4.13+cuda11.cudnn86)\n",
            "Requirement already satisfied: multipledispatch in /usr/local/lib/python3.10/dist-packages (from numpyro) (1.0.0)\n",
            "Requirement already satisfied: numpy in /usr/local/lib/python3.10/dist-packages (from numpyro) (1.22.4)\n",
            "Requirement already satisfied: tqdm in /usr/local/lib/python3.10/dist-packages (from numpyro) (4.65.0)\n",
            "Requirement already satisfied: ml-dtypes>=0.1.0 in /usr/local/lib/python3.10/dist-packages (from jax>=0.4.7->numpyro) (0.2.0)\n",
            "Requirement already satisfied: opt-einsum in /usr/local/lib/python3.10/dist-packages (from jax>=0.4.7->numpyro) (3.3.0)\n",
            "Requirement already satisfied: scipy>=1.7 in /usr/local/lib/python3.10/dist-packages (from jax>=0.4.7->numpyro) (1.10.1)\n",
            "Installing collected packages: numpyro\n",
            "Successfully installed numpyro-0.12.1\n"
          ]
        }
      ]
    },
    {
      "cell_type": "code",
      "execution_count": null,
      "metadata": {
        "id": "KeJDUC-oVyhN",
        "colab": {
          "base_uri": "https://localhost:8080/"
        },
        "outputId": "9cc225cb-a66f-4708-9967-51748df776c2"
      },
      "outputs": [
        {
          "output_type": "stream",
          "name": "stderr",
          "text": [
            "WARNING:jax._src.xla_bridge:No GPU/TPU found, falling back to CPU. (Set TF_CPP_MIN_LOG_LEVEL=0 and rerun for more info.)\n"
          ]
        }
      ],
      "source": [
        "import jax\n",
        "from jax import random\n",
        "import jax.numpy as jnp\n",
        "import numpyro.distributions as dist\n",
        "\n",
        "from scipy.stats import gaussian_kde\n",
        "import matplotlib.pyplot as plt\n",
        "plt.rcParams['mathtext.fontset'] = 'cm'\n",
        "plt.rcParams['font.family'] = 'STIXGeneral'\n",
        "\n",
        "# Since we are using Jax, we will need a random key:\n",
        "rng = random.PRNGKey(42)"
      ]
    },
    {
      "cell_type": "markdown",
      "source": [
        "# New section"
      ],
      "metadata": {
        "id": "OaF_35-CXeIL"
      }
    },
    {
      "cell_type": "markdown",
      "source": [
        "In order to dive into the exciting world of probabilistic programming, we first need to build some important foundations. In particular, we will need understand what a probability distribution is, some simple but fundamental rules of probability, and how to interact with probabilities in code."
      ],
      "metadata": {
        "id": "Uq9ShwEZdEHv"
      }
    },
    {
      "cell_type": "markdown",
      "source": [
        "# Probability distributions and random variables"
      ],
      "metadata": {
        "id": "ZNlT8E41STXX"
      }
    },
    {
      "cell_type": "markdown",
      "source": [
        "Probability distributions and random variables allow us to describe and do calculations involving random events, i.e., events whose outcomes are random. An example of such a random event would be flipping a coin or rolling a die. In the first case, the possible outcomes are *heads* or *tails*.\n",
        "\n",
        "**Group task 1:** discuss with your neighbours, what are the possible outcomes when rolling a die?\n"
      ],
      "metadata": {
        "id": "-SyMxGciSYVv"
      }
    },
    {
      "cell_type": "markdown",
      "source": [
        "A **random variable** $X$ allows us to assign numerical values to the possible outcomes of a random event. For example in the coin flipping example we could use a binary random varible with $X = 1$ if the coin is heads and $X = 0$ for tails.\n",
        "\n",
        "**Group task 2:** discuss with your neighbours and write down a random variable to describe the die rolling event."
      ],
      "metadata": {
        "id": "0dZwrO_bEBns"
      }
    },
    {
      "cell_type": "markdown",
      "source": [
        "A **probability distribution** $p(X = x)$ describes the probability that $X$ takes each of its possible values $x$.\n",
        "\n",
        "In order to make things more concrete, let's explore a few common probabilty distributions."
      ],
      "metadata": {
        "id": "rVAonKYn2-mZ"
      }
    },
    {
      "cell_type": "markdown",
      "source": [
        "#### Answer to group task 1"
      ],
      "metadata": {
        "id": "nycDZL1DEHST"
      }
    },
    {
      "cell_type": "markdown",
      "source": [
        "Assuming that the die has 6 sides, the outcomes are ⚀, ⚁, ⚂, ⚃, ⚄, and ⚅."
      ],
      "metadata": {
        "id": "KJ1QCymdGqJ5"
      }
    },
    {
      "cell_type": "markdown",
      "source": [
        "#### Answer to group task 2\n"
      ],
      "metadata": {
        "id": "_fsdlUFKGvfe"
      }
    },
    {
      "cell_type": "markdown",
      "source": [
        "Note that there are many possible answers, here is one:\n",
        "\n",
        "$$\n",
        "X = \\begin{cases}\n",
        "0 \\text{ if } ⚀ \\\\\n",
        "1 \\text{ if } ⚁ \\\\\n",
        "2 \\text{ if } ⚂ \\\\\n",
        "3 \\text{ if } ⚃ \\\\\n",
        "4 \\text{ if } ⚄ \\\\\n",
        "5 \\text{ if } ⚅ \\\\\n",
        "\\end{cases}\n",
        "$$"
      ],
      "metadata": {
        "id": "P88zv4TkGvff"
      }
    },
    {
      "cell_type": "markdown",
      "source": [
        "### The Bernoulli distribution"
      ],
      "metadata": {
        "id": "5czMPIKY2c2y"
      }
    },
    {
      "cell_type": "markdown",
      "source": [
        "A Bernoulli distribution is used to describe random events with two possible outcomes e.g., when we have a random variable that takes on one of two values $x \\in \\{0, 1\\}$:\n",
        "\\begin{align}\n",
        "p(X = 1) &= p \\\\\n",
        "p(X = 0) &= 1 - p\n",
        "\\end{align}\n",
        "where $0 \\le p \\le 1$. Here $p$ is a parameter which controlls the probability of each outcome. For example, in the case of a *fair* coin toss, $p = 0.5$ so that both outcomes have a 50\\% chance of occuring. As we will see shortly, most distributions have multiple parameters.\n",
        "\n",
        "A probability distribution can be uniquely defined by its probability mass function (PMF), or probability desnity function (PDF) in the case of continuous distributions. For the Bernoulli distribution we write the PMF as\n",
        "\\begin{align}\n",
        "p(X = x) = \\text{Bernoulli}(X\\mid p) &= \\begin{cases}\n",
        "p\\, & \\text{if } x = 1 \\\\\n",
        "1 - p\\, & \\text{if } x = 0\n",
        "\\end{cases} \\\\\n",
        "&= p^x(1-p)^{1-x}.\n",
        "\\end{align}\n",
        "\n",
        "**Exercise:** convince yourself that the two definitions of the Bernoulli distribution shown above are equivalent."
      ],
      "metadata": {
        "id": "76aOYczHEESu"
      }
    },
    {
      "cell_type": "markdown",
      "source": [
        "Now let's construct a Bernoulli distribution in code, so that we can play around with it and get some intuition.\n",
        "\n",
        "**Note:** In this practical we are going to use `numpyro` to construct our distributions. However there are several other `jax` packages that work similarly (e.g., `distrax`) as well as several options for `tensorflow` (e.g., `tensorflow_probability`) and `pytorch` (e.g., `torch.distribution`). Don't worry too much about the specifics of how `numpyro` works, e.g., the names of the distributions and their arguments, instead try to understand what the code is doing."
      ],
      "metadata": {
        "id": "MmbE11YdfUiX"
      }
    },
    {
      "cell_type": "code",
      "source": [
        "p = jnp.array(0.5)\n",
        "bernoulli = dist.Bernoulli(probs=p)"
      ],
      "metadata": {
        "id": "TSgMisgEN32q"
      },
      "execution_count": null,
      "outputs": []
    },
    {
      "cell_type": "markdown",
      "source": [
        "Now that we have constructed the distribution we can get a sample from it:"
      ],
      "metadata": {
        "id": "_na1S1m4iai9"
      }
    },
    {
      "cell_type": "code",
      "source": [
        "sample = bernoulli.sample(key=rng)\n",
        "print(sample)"
      ],
      "metadata": {
        "colab": {
          "base_uri": "https://localhost:8080/"
        },
        "id": "7A9TQOXUf9-i",
        "outputId": "7ac02cdd-5f78-4daa-ce49-51ee8c54451e"
      },
      "execution_count": null,
      "outputs": [
        {
          "output_type": "stream",
          "name": "stdout",
          "text": [
            "1\n"
          ]
        }
      ]
    },
    {
      "cell_type": "markdown",
      "source": [
        "And we can evaluate the probability of observing a sample.\n",
        "\n",
        "**Note:** the distribution objects in `numpyro` (and indeed most other libraries for probability distributions) return *log*-probabilities, rather than raw probabilities. This means that we need to take the exponent if we want to know the probabilitiy."
      ],
      "metadata": {
        "id": "FxBBsLKKiqPW"
      }
    },
    {
      "cell_type": "code",
      "source": [
        "log_prob = bernoulli.log_prob(sample)\n",
        "print(f\"log p(X = {sample}) = {log_prob}\")\n",
        "print(f\"p(X = {sample}) = {jnp.exp(log_prob)}\")"
      ],
      "metadata": {
        "colab": {
          "base_uri": "https://localhost:8080/"
        },
        "id": "E5OjpXAVii6j",
        "outputId": "dc0465da-ba31-4a92-f82c-09df29d06503"
      },
      "execution_count": null,
      "outputs": [
        {
          "output_type": "stream",
          "name": "stdout",
          "text": [
            "log p(X = 1) = -0.6931471824645996\n",
            "p(X = 1) = 0.5\n"
          ]
        }
      ]
    },
    {
      "cell_type": "markdown",
      "source": [
        "As expected, we get a probability of 0.5."
      ],
      "metadata": {
        "id": "uZN1M6OojiIK"
      }
    },
    {
      "cell_type": "markdown",
      "source": [
        "We can also easily get multiple samples:"
      ],
      "metadata": {
        "id": "rNKULlkvpuaV"
      }
    },
    {
      "cell_type": "code",
      "source": [
        "n = 6 #@param {type:\"slider\", min:1, max:10, step:1}\n",
        "samples = bernoulli.sample(key=rng, sample_shape=(n,))\n",
        "print(samples)"
      ],
      "metadata": {
        "colab": {
          "base_uri": "https://localhost:8080/"
        },
        "id": "A0exxfFgp2yJ",
        "outputId": "5573a19e-ef87-43c1-e1d4-72c9ca29cd4e"
      },
      "execution_count": null,
      "outputs": [
        {
          "output_type": "stream",
          "name": "stdout",
          "text": [
            "[0 0 0 1 1 0]\n"
          ]
        }
      ]
    },
    {
      "cell_type": "markdown",
      "source": [
        "What if we wanted to evaulate the probability of observing all of our samples?\n",
        "\n",
        "The `bernoulli` object we created earlier treats each each sample individually, and returns the probabilities of observing each sample on its own:"
      ],
      "metadata": {
        "id": "Ar5WgG53rnvq"
      }
    },
    {
      "cell_type": "code",
      "source": [
        "individual_sample_probs = jnp.exp(bernoulli.log_prob(samples))\n",
        "print(individual_sample_probs)"
      ],
      "metadata": {
        "colab": {
          "base_uri": "https://localhost:8080/"
        },
        "id": "xvxt07MzqqC6",
        "outputId": "eee3364b-73d1-45b7-ea64-9648de8535b7"
      },
      "execution_count": null,
      "outputs": [
        {
          "output_type": "stream",
          "name": "stdout",
          "text": [
            "[0.5 0.5 0.5 0.5 0.5 0.5]\n"
          ]
        }
      ]
    },
    {
      "cell_type": "markdown",
      "source": [
        "But, we can use the one of the laws of probability to compute the probability of observing all of the samples together:\n",
        "$$\n",
        "p(X_1=x_1, X_2=x_2, \\dots, X_N=x_n) = \\prod_{n=1}^N p(X_n=x_n).\n",
        "$$\n",
        "This is called the *product rule of probability*, and it says that for *independent* random variables, the joint probability (i.e., the probability of observing them all together) is equal to the product of the individual probabilities.\n",
        "\n",
        "Now, let's calculate the joint probability of our samples."
      ],
      "metadata": {
        "id": "_b86hUVwsMrT"
      }
    },
    {
      "cell_type": "code",
      "source": [
        "joint_prob = jnp.prod(individual_sample_probs)\n",
        "print(joint_prob)"
      ],
      "metadata": {
        "colab": {
          "base_uri": "https://localhost:8080/"
        },
        "id": "obXuw1Crt3gK",
        "outputId": "5825c90f-6b02-485b-a657-5edd27751cb5"
      },
      "execution_count": null,
      "outputs": [
        {
          "output_type": "stream",
          "name": "stdout",
          "text": [
            "0.015625\n"
          ]
        }
      ]
    },
    {
      "cell_type": "markdown",
      "source": [
        "**Group task 3:** Discuss with your neighbour, why do you think that libraries usually return *log*-probabilities?"
      ],
      "metadata": {
        "id": "XuuP6uSvuKcw"
      }
    },
    {
      "cell_type": "markdown",
      "source": [
        "**Group task 4:** Play with the following slider, and make sure that you understand the role of the Bernoulli distribution's $p$ parameter."
      ],
      "metadata": {
        "id": "tiHst_mlJw3m"
      }
    },
    {
      "cell_type": "code",
      "source": [
        "#@title Bernolli distribution interactive excercise { run: \"auto\" }\n",
        "\n",
        "p_ = 0.52 #@param {type:\"slider\", min:0, max:1, step:0.01}\n",
        "\n",
        "n_ = 1000\n",
        "bernoulli_ = dist.Bernoulli(probs=p_)\n",
        "samples_ = bernoulli_.sample(key=rng, sample_shape=(n_,))\n",
        "\n",
        "num_ones = (samples_ == 1.).sum()\n",
        "num_zeros = (samples_ == 0.).sum()\n",
        "\n",
        "fig = plt.figure(dpi=100)\n",
        "ax = fig.add_subplot(1, 1, 1)\n",
        "ax.bar([0, 1], [num_zeros/n_, num_ones/n_])\n",
        "ax.set_xticks([0, 1])\n",
        "ax.set_xlabel('x')\n",
        "ax.set_ylabel('p(X=x)')\n",
        "plt.show()"
      ],
      "metadata": {
        "colab": {
          "base_uri": "https://localhost:8080/",
          "height": 448
        },
        "cellView": "form",
        "id": "AQysWurNJ_kW",
        "outputId": "c1edf87a-de41-48e1-a2b0-e1e4d4391647"
      },
      "execution_count": null,
      "outputs": [
        {
          "output_type": "display_data",
          "data": {
            "text/plain": [
              "<Figure size 640x480 with 1 Axes>"
            ],
            "image/png": "[encoded data removed]"
          },
          "metadata": {}
        }
      ]
    },
    {
      "cell_type": "markdown",
      "source": [
        "#### Answer to group task 3\n"
      ],
      "metadata": {
        "id": "D-h2S6tqj2FR"
      }
    },
    {
      "cell_type": "markdown",
      "source": [
        "The answer, as is often the case, is numerical stability! When working with numbers between 0 and 1 (i.e., probabilities) it is easy to run into underflow.\n",
        "\n",
        "For example, consider computing the probability of several independent events $A$, $B$, $C$, $\\ldots$:\n",
        "$$\n",
        "p(A, B, C, \\ldots) = p(A) \\times p(B) \\times p(C) \\times \\ldots,\n",
        "$$\n",
        "because we are multiplying numbers that are between 0 and 1, we know that the result will be smaller for each multiplication. As we perform more and more multiplications, it becomes more likely that the computation will underflow and erroneously produce a result of 0.\n",
        "\n",
        "We can avoid this problem by instead working with log-probabilities. Continuing the above example we get\n",
        "$$\n",
        "\\log p(A, B, C, \\ldots) = \\log p(A) + \\log p(B) + \\log p(C) + \\ldots,\n",
        "$$\n",
        "where by the log laws, we have replaced all of the multiplications with additions, thereby avoiding any numerical issues."
      ],
      "metadata": {
        "id": "OCOtXSelj2FR"
      }
    },
    {
      "cell_type": "markdown",
      "source": [
        "## The categorical distribution"
      ],
      "metadata": {
        "id": "4LDwuZo4dy_h"
      }
    },
    {
      "cell_type": "markdown",
      "source": [
        "A categorical distribution is used to model random events with multiple *discrete* outcomes, such as the die rolling event from above. By discrete, we mean that there is a countable number of outcomes. We will tackle uncountable outcomes shortly.\n",
        "\n",
        "As with the Bernoulli distribution, we can characterise the categorical distribution with its PMF:\n",
        "\\begin{align}\n",
        "p(X = x) = \\text{categorical}(X\\mid\\mathbf{p}) = \\prod_{k=1}^K p_k^{[x=k]},\n",
        "\\end{align}\n",
        "where $K$ is the number of outcomes, $\\textbf{p} = [p_1, p_2, \\dots, p_K]$, $p_k$ is the probability of the $k$th outcome, $\\sum_k p_k = 1$, and $[x = k]$ is called an Iverson bracket which evaluates to 1 if $x = k$ and 0 otherwise.\n",
        "\n",
        "**Exercise:** convince yourself that a categorical distribution with $K = 2$ is equivalent to a Bernoulli distribution.\n",
        "\n",
        "Now, let's start playing with this distribution in code!"
      ],
      "metadata": {
        "id": "uH-WA93AenYA"
      }
    },
    {
      "cell_type": "code",
      "source": [
        "ps = jnp.array([0.1, 0.2, 0.3, 0.4])\n",
        "categorical = dist.Categorical(probs=ps)"
      ],
      "metadata": {
        "id": "UK8ZszrXyPXj"
      },
      "execution_count": null,
      "outputs": []
    },
    {
      "cell_type": "markdown",
      "source": [
        "As before we can take some samples:"
      ],
      "metadata": {
        "id": "EBgG4nh4zy0U"
      }
    },
    {
      "cell_type": "code",
      "source": [
        "samples = categorical.sample(key=rng, sample_shape=(10,))\n",
        "print(samples)"
      ],
      "metadata": {
        "colab": {
          "base_uri": "https://localhost:8080/"
        },
        "id": "y8Hc_mihz4cG",
        "outputId": "d75d5344-87d0-450c-c6a0-e663ece97f1d"
      },
      "execution_count": null,
      "outputs": [
        {
          "output_type": "stream",
          "name": "stdout",
          "text": [
            "[3 2 1 3 3 1 2 1 3 3]\n"
          ]
        }
      ]
    },
    {
      "cell_type": "markdown",
      "source": [
        "And compute the probability for each of the random events:"
      ],
      "metadata": {
        "id": "RvDnzH8e0IGU"
      }
    },
    {
      "cell_type": "code",
      "source": [
        "print(f\"p(X=0) = {jnp.exp(categorical.log_prob(0)):.1f}\")\n",
        "print(f\"p(X=1) = {jnp.exp(categorical.log_prob(1)):.1f}\")\n",
        "print(f\"p(X=2) = {jnp.exp(categorical.log_prob(2)):.1f}\")\n",
        "print(f\"p(X=3) = {jnp.exp(categorical.log_prob(3)):.1f}\")"
      ],
      "metadata": {
        "colab": {
          "base_uri": "https://localhost:8080/"
        },
        "id": "fSzBoL180Ldi",
        "outputId": "9b853f95-d315-47be-aa97-8df850a96a86"
      },
      "execution_count": null,
      "outputs": [
        {
          "output_type": "stream",
          "name": "stdout",
          "text": [
            "p(X=0) = 0.1\n",
            "p(X=1) = 0.2\n",
            "p(X=2) = 0.3\n",
            "p(X=3) = 0.4\n"
          ]
        }
      ]
    },
    {
      "cell_type": "markdown",
      "source": [
        "**Group task 5:** Play with the following sliders, which control the paramters of the categorical distribution. Note that because $\\sum_k p_k = 1$, we are using an alternative way to represent the categorical distribution. Instead of specifying the probabilities $p_k$, we specifiy logits $l_k$. Each $p_k$ is then computed as\n",
        "$$\n",
        "p_k = \\frac{\\exp(l_k)}{\\sum_{k'}\\exp(l_k)},\n",
        "$$\n",
        "i.e., using the softmax function."
      ],
      "metadata": {
        "id": "5IzIHSHJPa5W"
      }
    },
    {
      "cell_type": "code",
      "source": [
        "#@title categorical distribution interactive excercise {run: \"auto\"}\n",
        "l_0 = 0.7 #@param {type:\"slider\", max:4, step:0.1}\n",
        "l_1 = 0.3 #@param {type:\"slider\", max:4, step:0.1}\n",
        "l_2 = 2 #@param {type:\"slider\", max:4, step:0.1}\n",
        "l_3 = 1.6 #@param {type:\"slider\", max:4, step:0.1}\n",
        "\n",
        "logits_ = jnp.array([l_0, l_1, l_2, l_3], dtype=jnp.float32)\n",
        "categorical_ = dist.Categorical(logits=logits_)\n",
        "samples_ = categorical_.sample(key=rng, sample_shape=(1000,))\n",
        "\n",
        "values =[0, 1, 2, 3]\n",
        "hist, _ = jnp.histogram(\n",
        "    samples_, bins=jnp.array(values + [4]), density=True\n",
        ")\n",
        "\n",
        "fig = plt.figure(dpi=100)\n",
        "ax = fig.add_subplot(1, 1, 1)\n",
        "ax.bar(values, hist)\n",
        "ax.set_xticks(values)\n",
        "ax.set_xlabel('x')\n",
        "ax.set_ylabel('p(X=x)')\n",
        "plt.show()"
      ],
      "metadata": {
        "colab": {
          "base_uri": "https://localhost:8080/",
          "height": 448
        },
        "cellView": "form",
        "id": "Y01AEUaTPTWO",
        "outputId": "1005b0e1-7609-4517-f43b-64b6a70e14ab"
      },
      "execution_count": null,
      "outputs": [
        {
          "output_type": "display_data",
          "data": {
            "text/plain": [
              "<Figure size 640x480 with 1 Axes>"
            ],
            "image/png": "[encoded data removed]"
          },
          "metadata": {}
        }
      ]
    },
    {
      "cell_type": "markdown",
      "source": [
        "## The normal distribution"
      ],
      "metadata": {
        "id": "xiPgkj5FOccQ"
      }
    },
    {
      "cell_type": "markdown",
      "source": [
        "The normal, also known Gaussian, distribution is one of the most common distributions for modelling *continuous* random variables, i.e., corresponding to events with an uncountable number of outcomes. It's probability density function is\n",
        "$$\n",
        "p(X = x) = \\mathcal{N}(x\\mid \\mu, \\sigma) = \\frac{1}{\\sqrt{2\\pi\\sigma^2}}\\exp\\left(-\\frac{(\\mu - x)^2}{\\sigma^2}\\right),\n",
        "$$\n",
        "where $\\mu$ (also called the location) and $\\sigma$ are the *mean* and *standard deviation* (also called the scale or square-root of the *variance* $\\sigma^2$).\n",
        "\n",
        "Once again, the best way to get a sense for this distribution is to play with some code!\n",
        "\n",
        "**Group task 6:** play with the following sliders, and discuss with your neighbours – how do the mean and standard deviation affect the samples?"
      ],
      "metadata": {
        "id": "Woeirrc_O4qa"
      }
    },
    {
      "cell_type": "code",
      "source": [
        "normal = dist.Normal(loc=0., scale=1.)\n",
        "sample = normal.sample(key=rng)\n",
        "print(f\"p(X = {sample}) = {jnp.exp(normal.log_prob(sample)):.5f}\")"
      ],
      "metadata": {
        "colab": {
          "base_uri": "https://localhost:8080/"
        },
        "id": "DyG20zDwubw4",
        "outputId": "bfaaea4e-2533-483e-922a-45baa9df477c"
      },
      "execution_count": null,
      "outputs": [
        {
          "output_type": "stream",
          "name": "stdout",
          "text": [
            "p(X = -0.1847117692232132) = 0.39219\n"
          ]
        }
      ]
    },
    {
      "cell_type": "code",
      "source": [
        "#@title normal distribution interactive excercise {run: \"auto\"}\n",
        "μ_ = 1.3 #@param {type:\"slider\", min:-5, max:5, step:0.1}\n",
        "σ_ = 1 #@param {type:\"slider\", max:4, step:0.1}\n",
        "\n",
        "normal = dist.Normal(loc=μ_, scale=σ_)\n",
        "samples_ = normal.sample(key=rng, sample_shape=(10000,))\n",
        "\n",
        "fig = plt.figure(dpi=100)\n",
        "ax = fig.add_subplot(1, 1, 1)\n",
        "ax.hist(samples_, bins=50, density=True, alpha=0.5)\n",
        "x = jnp.linspace(-10, 10, 3000)\n",
        "kde = gaussian_kde(samples_)\n",
        "ax.plot(x, kde(x), color='C0', lw=3, alpha=0.5)\n",
        "ax.set_xlabel('x')\n",
        "ax.set_ylabel('p(X=x)')\n",
        "ax.set_xlim(-10, 10)\n",
        "plt.show()"
      ],
      "metadata": {
        "colab": {
          "base_uri": "https://localhost:8080/",
          "height": 448
        },
        "id": "8b2JE92rlfDK",
        "outputId": "4240790b-a9cd-4283-d1ec-73563293ceb5"
      },
      "execution_count": null,
      "outputs": [
        {
          "output_type": "display_data",
          "data": {
            "text/plain": [
              "<Figure size 640x480 with 1 Axes>"
            ],
            "image/png": "[encoded data removed]"
          },
          "metadata": {}
        }
      ]
    },
    {
      "cell_type": "markdown",
      "source": [
        "TODO: add coding excercise to implement the normal pdf manually."
      ],
      "metadata": {
        "id": "UQuPdZFGs6k7"
      }
    },
    {
      "cell_type": "markdown",
      "source": [
        "#### Answer to group task 6\n",
        "\n"
      ],
      "metadata": {
        "id": "OwA1Fh0CrQDB"
      }
    },
    {
      "cell_type": "markdown",
      "source": [
        "The mean controls where the center of the distribution is located. In other words, it controls where the most likely location to sample values is.\n",
        "\n",
        "The standard deviation controls how wide the distribution is. In other words, it controls how likely we are to draw samples farther away from the mean."
      ],
      "metadata": {
        "id": "zqb8a9Z4rwY-"
      }
    },
    {
      "cell_type": "markdown",
      "source": [
        "### Expected Values"
      ],
      "metadata": {
        "id": "M1ETQ-5aYLwf"
      }
    },
    {
      "cell_type": "markdown",
      "source": [
        "TODO: introduce the idea of expected values and tie it to estimating the mean and variance of the normal as examples."
      ],
      "metadata": {
        "id": "iVrAVUFar7xc"
      }
    },
    {
      "cell_type": "markdown",
      "source": [
        "### Reparameterisation"
      ],
      "metadata": {
        "id": "fXRltjxo3sOn"
      }
    },
    {
      "cell_type": "markdown",
      "source": [
        "TODO: introduce the idea of reparamterisation to convert samples from N(0, 1) to N(μ, σ). Maybe mention reparameterisation trick?"
      ],
      "metadata": {
        "id": "-Lffd-UM3sOp"
      }
    },
    {
      "cell_type": "markdown",
      "source": [
        "## The *multivariate* normal distribution"
      ],
      "metadata": {
        "id": "H3gV76r9YY1H"
      }
    },
    {
      "cell_type": "markdown",
      "source": [
        "TODO: introduce the idea of multivariate distribution and covariance via the multivariate normal."
      ],
      "metadata": {
        "id": "uLdOSwCQryIx"
      }
    },
    {
      "cell_type": "code",
      "source": [],
      "metadata": {
        "id": "J9zZcQ_vu0sE"
      },
      "execution_count": null,
      "outputs": []
    },
    {
      "cell_type": "markdown",
      "source": [
        "### Batch and event shapes"
      ],
      "metadata": {
        "id": "-51jbOmbw8kj"
      }
    },
    {
      "cell_type": "code",
      "source": [
        "values = jnp.array([1., 2.])\n",
        "normal = dist.Normal(0., 1.)\n",
        "print(normal.event_shape)\n",
        "print(normal.batch_shape)\n",
        "print(f\"p(X = {values}) = {jnp.exp(normal.log_prob(values))}\")"
      ],
      "metadata": {
        "colab": {
          "base_uri": "https://localhost:8080/"
        },
        "id": "iFjn7yextkHW",
        "outputId": "6da89b0a-09b3-458f-f59a-460e3abaf84f"
      },
      "execution_count": null,
      "outputs": [
        {
          "output_type": "stream",
          "name": "stdout",
          "text": [
            "()\n",
            "()\n",
            "p(X = [1. 2.]) = [0.24197073 0.05399096]\n"
          ]
        }
      ]
    },
    {
      "cell_type": "code",
      "source": [
        "batch_normal = dist.Normal(jnp.array([0., 1.]), jnp.array([1., 2.]))\n",
        "print(batch_normal.event_shape)\n",
        "print(batch_normal.batch_shape)\n",
        "print(f\"p(X = {values}) = {jnp.exp(batch_normal.log_prob(values))}\")\n",
        "print(jnp.prod(jnp.exp(batch_normal.log_prob(values))))"
      ],
      "metadata": {
        "colab": {
          "base_uri": "https://localhost:8080/"
        },
        "id": "DHmxAQIvtyME",
        "outputId": "07149382-2727-4092-9df4-2cdc4202ee58"
      },
      "execution_count": null,
      "outputs": [
        {
          "output_type": "stream",
          "name": "stdout",
          "text": [
            "()\n",
            "(2,)\n",
            "p(X = [1. 2.]) = [0.24197073 0.17603266]\n",
            "0.042594753\n"
          ]
        }
      ]
    },
    {
      "cell_type": "code",
      "source": [
        "multivariate_diagonal_normal = dist.MultivariateNormal(jnp.array([0., 1.]), jnp.array([[1., 0.], [0., 2.**2]]))\n",
        "print(multivariate_diagonal_normal.event_shape)\n",
        "print(multivariate_diagonal_normal.batch_shape)\n",
        "print(f\"p(X = {values}) = {jnp.exp(multivariate_diagonal_normal.log_prob(values))}\")"
      ],
      "metadata": {
        "colab": {
          "base_uri": "https://localhost:8080/"
        },
        "id": "civD7s4MvjFn",
        "outputId": "0d321a25-a455-4cb7-cc76-18fdbe8ffe90"
      },
      "execution_count": null,
      "outputs": [
        {
          "output_type": "stream",
          "name": "stdout",
          "text": [
            "(2,)\n",
            "()\n",
            "p(X = [1. 2.]) = 0.042594753205776215\n"
          ]
        }
      ]
    },
    {
      "cell_type": "code",
      "source": [
        "multivariate_full_normal = dist.MultivariateNormal(jnp.array([0., 1.]), jnp.array([[1., 1.], [1., 2.**2]]))\n",
        "print(multivariate_full_normal.event_shape)\n",
        "print(multivariate_full_normal.batch_shape)\n",
        "print(f\"p(X = {values}) = {jnp.exp(multivariate_full_normal.log_prob(values))}\")"
      ],
      "metadata": {
        "colab": {
          "base_uri": "https://localhost:8080/"
        },
        "outputId": "3f8c3633-a822-4068-9a2a-37376564b8a2",
        "id": "olEOXEyo0UwE"
      },
      "execution_count": null,
      "outputs": [
        {
          "output_type": "stream",
          "name": "stdout",
          "text": [
            "(2,)\n",
            "()\n",
            "p(X = [1. 2.]) = 0.055732980370521545\n"
          ]
        }
      ]
    },
    {
      "cell_type": "markdown",
      "source": [
        "## An important note on notation"
      ],
      "metadata": {
        "id": "9MeNeqm-8ES_"
      }
    },
    {
      "cell_type": "markdown",
      "source": [
        "In the text above we introduced a lot of new notation, so let's spend a little more time to make sure that everything is clear before moving on.\n",
        "\n",
        "**$X$ vs $x$**\n",
        "\n",
        "**$p(X = x)$ vs $p(X)$ vs $p_X(x)$ vs $p(x)$**\n",
        "\n",
        "**What is the '$\\mid$' in $p(X\\mid a, b, c)$?**"
      ],
      "metadata": {
        "id": "mB7Uu-hW8JoW"
      }
    },
    {
      "cell_type": "code",
      "source": [],
      "metadata": {
        "id": "Js6FJy91SXKe"
      },
      "execution_count": null,
      "outputs": []
    }
  ]
}